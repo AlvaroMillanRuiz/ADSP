{
 "cells": [
  {
   "cell_type": "code",
   "execution_count": 1,
   "metadata": {},
   "outputs": [
    {
     "name": "stdout",
     "output_type": "stream",
     "text": [
      "helo\n"
     ]
    }
   ],
   "source": [
    "print(\"helo\")"
   ]
  },
  {
   "cell_type": "code",
   "execution_count": 2,
   "metadata": {},
   "outputs": [
    {
     "name": "stdout",
     "output_type": "stream",
     "text": [
      "peme\n"
     ]
    }
   ],
   "source": [
    "print(\"peme\")"
   ]
  },
  {
   "cell_type": "markdown",
   "metadata": {},
   "source": [
    "Celsius, Fahrenheit and Kelvin are the best known temperature scales. Their relations are given in\n",
    "Table 1. In this assignment you will implement a temperature converter according to the following\n",
    "specifications:\n",
    "1. User can input temperature in an arbitrary scale, such as: 25C, 77F or 298K.\n",
    "2. Your code should compute and print temperature in the other two scales."
   ]
  },
  {
   "cell_type": "code",
   "execution_count": 23,
   "metadata": {},
   "outputs": [
    {
     "name": "stdout",
     "output_type": "stream",
     "text": [
      "-362.47 F\n",
      "-219.14999999999998 C\n"
     ]
    }
   ],
   "source": [
    "temperature = input(\"Enter a temperature: \")\n",
    "value = float(temperature[:-1])\n",
    "scale = temperature[-1]\n",
    "\n",
    "if scale == \"K\" or \"k\":\n",
    "    print((value*(9/5)) - 459.67, \"F\")\n",
    "    print(value - 273.15, \"C\")\n",
    "\n",
    "elif scale == \"F\" or \"f\":\n",
    "    print((value-32) * 5/9, \"C\")\n",
    "    print((value+459.67) * 5/9, \"K\")\n",
    "\n",
    "elif scale == \"C\" or \"c\":\n",
    "    print((value*(9/5)) + 32, \"F\")\n",
    "    print(value + 273.15, \"K\")\n",
    "\n",
    "else:\n",
    "    print(\"boi u crazy\")\n",
    "\n"
   ]
  },
  {
   "cell_type": "markdown",
   "metadata": {},
   "source": [
    "Or functions"
   ]
  },
  {
   "cell_type": "code",
   "execution_count": 71,
   "metadata": {},
   "outputs": [
    {
     "name": "stdout",
     "output_type": "stream",
     "text": [
      "129.2 F\n",
      "327.15 K\n"
     ]
    }
   ],
   "source": [
    "def handle_K(value):\n",
    "    print((value*(9/5)) - 459.67, \"F\")\n",
    "    print(value - 273.15, \"C\")\n",
    "\n",
    "def handle_C(value):\n",
    "    print((value*(9/5)) + 32, \"F\")\n",
    "    print(value + 273.15, \"K\")\n",
    "\n",
    "def handle_F(value):\n",
    "    print((value-32) * 5/9, \"C\")\n",
    "    print((value+459.67) * 5/9,  \"K\")\n",
    "\n",
    "temperature = input(\"Enter a temperature: \")\n",
    "value = float(temperature[:-1])\n",
    "scale = temperature[-1]\n",
    "\n",
    "try:\n",
    "    {'C': handle_C, 'F': handle_F, 'K': handle_K}[scale](value)\n",
    "except KeyError:\n",
    "    print(\"Unkown scale\", scale)"
   ]
  },
  {
   "cell_type": "markdown",
   "metadata": {},
   "source": [
    "A prime number (or a prime) is a natural number greater than 1 that has no positive divisors other than\n",
    "1 and itself. Example prime numbers are 2, 3, 5, 7, 11, 13, 17, 19, 23 and 29. In this assignment you\n",
    "should implement a prime number generator according to the following specifications:\n",
    "1. User is prompted to enter a desired sequence length n.\n",
    "2. Your Python code should print the first n prime numbers. The output should look like this:"
   ]
  },
  {
   "cell_type": "code",
   "execution_count": 140,
   "metadata": {},
   "outputs": [
    {
     "name": "stdout",
     "output_type": "stream",
     "text": [
      "1. 2\n",
      "2. 3\n",
      "3. 4\n",
      "4. 5\n",
      "5. 6\n",
      "6. 7\n",
      "7. 8\n",
      "8. 9\n",
      "9. 10\n",
      "10. 11\n"
     ]
    }
   ],
   "source": [
    "# Get input of the user.\n",
    "n = int(input('Enter sequence length (n): '))\n",
    "sequence_number = 1\n",
    "candidate = 2  # Current prime candidate\n",
    "# While we have not generated n primes ...\n",
    "while sequence_number <= n:\n",
    "    is_prime = True  # Whether the current candidate can be a prime\n",
    "    # Iterate over all integers smaller than candidate\n",
    "    for i in range(2, candidate - 1):\n",
    "        # If candidate is divisible by i...\n",
    "        if candidate % i == 0:\n",
    "            break\n",
    "    if is_prime:\n",
    "        print(str(sequence_number) + '. ' + str(candidate))  # Print prime.\n",
    "        sequence_number += 1  # We have found another prime! \n",
    "\n",
    "    candidate += 1  # Check next integer."
   ]
  }
 ],
 "metadata": {
  "kernelspec": {
   "display_name": "rlcourse",
   "language": "python",
   "name": "python3"
  },
  "language_info": {
   "codemirror_mode": {
    "name": "ipython",
    "version": 3
   },
   "file_extension": ".py",
   "mimetype": "text/x-python",
   "name": "python",
   "nbconvert_exporter": "python",
   "pygments_lexer": "ipython3",
   "version": "3.7.16"
  }
 },
 "nbformat": 4,
 "nbformat_minor": 2
}
