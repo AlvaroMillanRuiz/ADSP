{
 "cells": [
  {
   "cell_type": "markdown",
   "id": "0779691e",
   "metadata": {},
   "source": [
    "## Algorithms and Data Structures in Python — Assignment 2 ##\n",
    "\n",
    "The following assignment will test your understanding of topics covered in the first three weeks of the course. This assignment **will count towards your grade** and should be submitted through Canvas by **23.09.2021 at 08:59 (CEST)**. You are required to work and prepare your submissions in groups with 3 students per group. You can get at most 10 points for Assignment II, which is 10\\% of your final grade. \n",
    "\n",
    "1. For submission, please rename your notebook as ```{first_student_id}_{second_student_id}_{third_student_id}.ipynb```. For example, submission by students with student ID numbers *11760001*, *11760002* and *11760003* should have the filename ```11760001_11760002_11760003.ipynb```.\n",
    "\n",
    "2. Please follow the function prototype specified in the question for writing your code. The usage of additional functions is acceptable unless the problem expressly prohibits it. If this structure is modified, it will fail automated testing steps.\n",
    "\n",
    "3. All submissions will be checked for code similarity. Submissions with high similarity will be summarily rejected and no points will be awarded.\n",
    "\n",
    "4. Please do NOT use the ```input()``` function in your code. \n",
    "\n",
    "5. For this assignment, the usage of ```numpy``` is **not** allowed.\n",
    "\n",
    "6. For each exercise the correct solution counts for the 80% of the exercise's points, while code style counts for the remaining 20%. Please, make sure that you explain what your implementation does using comments."
   ]
  },
  {
   "cell_type": "code",
   "execution_count": null,
   "id": "4194b8d8",
   "metadata": {},
   "outputs": [],
   "source": [
    "# Please run this before starting this exercise.\n",
    "\n",
    "!conda install nltk -y\n",
    "import nltk\n",
    "nltk.download('words')"
   ]
  },
  {
   "cell_type": "markdown",
   "id": "80f33bf0",
   "metadata": {},
   "source": [
    "### Strings ###\n",
    "\n",
    "Strings are extremely useful in many applications. We begin this homework with some exercises on string manipulation. In the exercises below, you will work with strings to perform certain operations on them."
   ]
  },
  {
   "cell_type": "markdown",
   "id": "8958050a",
   "metadata": {},
   "source": [
    "#### Problem 1: Repeating Characters [2 POINTS]\n",
    "\n",
    "While working on a text document, a user noticed that his keyboard was malfunctioning and would often interpret a single keystroke as multiple inputs. As a result, an input ```\"ABC\"``` would be erroneously interpreted as ```\"ABBBCC\"```. In this problem, you will implement a function ```remove_repetitions()``` which will accept a the contents of such an erroneous input as a string and remove all repeated instances of a character within the string. \n",
    "\n",
    "Below you will find two examples of such erroneous inputs and how they appear once fixed.\n",
    "\n",
    "- ```\"AAAABCCCCCCCC\"``` -> ```\"ABC\"```\n",
    " \n",
    "- ```\"AcccCCBDEEEE\"``` -> ```\"AcCBDE\"```\n",
    "\n",
    "An erroneous input is defined as a character repeating itself more than once in adjoining positions within the string. Please note that lowercase and uppercase forms of the same alphabet are treated as different characters. For simplicity, you can assume that ALL repetitions are errors and you should not worry about words (sequence of characters) with actual repeated characters e.g. ```\"POLL\"```. Additionally, we will only test your code on alphabetic inputs (A-Z, a-z). No special symbols or numbers will be used in the input string.\n",
    "\n",
    "In the code block below, complete the function ```remove_repetitions(s)``` to accept a string ```s``` and return a string without repeating characters. Once done, you can run the test block below and check if it raises any errors. No errors would indicate that you have passed all public tests but we urge you to think about other problems that could occur as there are private (hidden) test cases as well.   "
   ]
  },
  {
   "cell_type": "code",
   "execution_count": null,
   "id": "0b3af48d",
   "metadata": {},
   "outputs": [],
   "source": [
    "def remove_repetitions(s):\n",
    "    ''' \n",
    "    Accepts a string 's' and outputs a string without:\n",
    "    \n",
    "    1. Repeating characters anywhere within the string.\n",
    "    '''\n",
    "    \n",
    "    # YOUR CODE HERE\n",
    "    pass"
   ]
  },
  {
   "cell_type": "code",
   "execution_count": null,
   "id": "d0f07307",
   "metadata": {},
   "outputs": [],
   "source": [
    "# Use this to test Problem 1\n",
    "assert(remove_repetitions(\"AAAABCCCCCCCC\") == \"ABC\")\n",
    "assert(remove_repetitions(\"AcccCCBDEEEE\") == \"AcCBDE\")"
   ]
  },
  {
   "cell_type": "markdown",
   "id": "18b623bd",
   "metadata": {},
   "source": [
    "#### Problem 2 :  Approximation of $e^x$ [3 POINTS]\n",
    "\n",
    "In this problem, you will write a function ```approximate(x, n)``` that computes:\n",
    "\n",
    "$$e^x = 1 + \\frac{x}{1!} + \\frac{x^2}{2!} + \\frac{x^3}{3!} + \\ldots = \\sum_{i=0}^{n}\\frac{x^i}{i!}$$\n",
    "\n",
    "The denominator term contains a factorial. You are required to write a function ```factorial(i)``` that computes the factorial of a number ($i!$). You are NOT allowed to use existing library implementations for computing factorials (e.g., in ```math``` or ```numpy```) "
   ]
  },
  {
   "cell_type": "code",
   "execution_count": null,
   "id": "92c0b69c",
   "metadata": {},
   "outputs": [],
   "source": [
    "def factorial(i):\n",
    "    pass\n",
    "\n",
    "def approximate(x, n):\n",
    "    pass\n"
   ]
  },
  {
   "cell_type": "code",
   "execution_count": null,
   "id": "056b7ba3",
   "metadata": {},
   "outputs": [],
   "source": [
    "import math\n",
    "assert(math.isclose(approximate(5, 100), 148.41315910257657))\n",
    "assert(math.isclose(approximate(10, 1000), 22026.46579480671))"
   ]
  },
  {
   "cell_type": "markdown",
   "id": "95119200",
   "metadata": {},
   "source": [
    "#### Problem 3 : Fixing Spacing Issues [5 POINTS]\n",
    "\n",
    "You've been hired as a programmer at Wordly, a grammar checking tool that is commonly used by students and professionals to detect typos in their texts. A common error in such texts is the user forgetting to place a space between words such that the sentence — \"I am a cat\" becomes \"I am acat\". You've been asked to design a simple (and crude) solution for detecting such issues. The approach for detecting and rectifying this problem in a given text (string) is as follows:\n",
    "\n",
    "1. Split the text into words. You can use the ```split``` string method for this. Store the results of this operation in the variable ```words```\n",
    "2. For each word, check whether it is a valid word. To do this, first import a list of valid english words from NLTK — a popular natural language library using the code snippet below:\n",
    "\n",
    "```python\n",
    "import nltk\n",
    "from nltk.corpus import words\n",
    "wordlist = words.words()\n",
    "```\n",
    "\n",
    "The variable ```wordlist``` contains a large list of valid english words. For each word in ```words```, check if it also exists in the list of valid english words contained in ```wordlist```. If it is not a valid english word, it is a typo. Store these typos in a list called ```typos```.\n",
    "\n",
    "3. You've now obtained a list of potential typos. For each typo, you must ascertain which two words were accidentally fused into a single word. We will check this by splitting the word at multiple points and check which split results in two valid words. For example, the word \"ahamburger\" can be split into two words in the following ways.\n",
    "\n",
    "```\n",
    "[('a', 'hamburger'),\n",
    " ('ah', 'amburger'),\n",
    " ('aha', 'mburger'),\n",
    " ('aham', 'burger'),\n",
    " ('ahamb', 'urger'),\n",
    " ('ahambu', 'rger'),\n",
    " ('ahambur', 'ger'),\n",
    " ('ahamburg', 'er'),\n",
    " ('ahamburge', 'r')]\n",
    "```\n",
    "\n",
    "From this list, only the first split actually results in two valid words (only \"a\" and \"hamburger\" from the candidates are contained in ```wordlist```). Other splits yield invalid words. Thus the typo of \"ahamburger\" can be fixed with \"a hamburger\". \n",
    "\n",
    "To achieve this, you will be required to write three functions:\n",
    "\n",
    "1. A function ```check_typos(s)``` that accepts an input string ```s``` and converts it into words. It then checks whether each word within the string is a valid english word using the NLTK word set. It returns words detected as typos in a list. \n",
    "\n",
    "2. A function ```generate_substrings(w)``` that accepts a word (passed as a string) ```w``` and splits it up into two substrings. It then returns the substrings for ```w``` as a list of tuples where each tuple contains two strings.\n",
    "\n",
    "3. A function ```generate_replacement_string``` that accepts the list of strings returned by ```generate_substrings(w)```and returns a tuple whose two substrings correspond to valid english words as contained in ```wordlist```.\n",
    "\n",
    "In the code block(s) below, we have provided a skeleton for these functions. Complete these functions. Once done, you can run the test block below and check if it raises any errors. No errors would indicate that you have passed all public tests but we urge you to think about other problems that could occur as there are private (hidden) test cases as well."
   ]
  },
  {
   "cell_type": "markdown",
   "id": "829744e0",
   "metadata": {},
   "source": [
    "#### Important Note\n",
    "\n",
    "Detecting typos is a complex problem and our approach is a crude solution for this task. Consequently, this approach suffers from many limitations. Please keep the following points in mind:\n",
    "\n",
    "1. The ```wordlist``` obtained from NLTK does not contain plural forms of words. For example, while it contains ```hamburger```, it does not contain ```hamburgers```. Consequently, ```hamburgers``` would be treated as a typo by your code since it is not in the list of valid english words provided by NLTK. We recognize this limitatition and we will not test your implementation with phrases containing plural forms of words. For example, we will not test your code on inputs like ```\"Can I have thesandwiches please\"```. \n",
    "\n",
    "2. We will NOT test your submission with any inputs containing special characters (e.g., \"?\", \"-\") and numbers (e.g., 1,2,3,...)\n",
    "\n",
    "3. Splitting a word into substrings may occasionally result in more than one valid substrings. Please do not worry about this and ignore such cases when testing your implementation."
   ]
  },
  {
   "cell_type": "code",
   "execution_count": null,
   "id": "c10fb3b6",
   "metadata": {},
   "outputs": [],
   "source": [
    "def check_typos(s):\n",
    "    pass\n",
    "\n",
    "def generate_substrings(w):\n",
    "    pass\n",
    "\n",
    "def generate_replacement_string(substrings):\n",
    "    pass"
   ]
  },
  {
   "cell_type": "code",
   "execution_count": null,
   "id": "652907d2",
   "metadata": {},
   "outputs": [],
   "source": [
    "# Tests for check_typos\n",
    "assert(check_typos(\"Can I have ahamburger that I shallpay for tomorrow\") == ['ahamburger', 'shallpay'])\n",
    "assert(check_typos(\"Can I havethe sandwich please\") == ['havethe'])"
   ]
  },
  {
   "cell_type": "code",
   "execution_count": null,
   "id": "098ebd3d",
   "metadata": {},
   "outputs": [],
   "source": [
    "# Tests for generate_substrings\n",
    "assert(generate_substrings(\"ahamburger\") == [('a', 'hamburger'),\n",
    " ('ah', 'amburger'),\n",
    " ('aha', 'mburger'),\n",
    " ('aham', 'burger'),\n",
    " ('ahamb', 'urger'),\n",
    " ('ahambu', 'rger'),\n",
    " ('ahambur', 'ger'),\n",
    " ('ahamburg', 'er')]\n",
    "\n",
    ")\n",
    "\n",
    "assert(generate_substrings(\"havethe\") == [('h', 'avethe'),\n",
    " ('ha', 'vethe'),\n",
    " ('hav', 'ethe'),\n",
    " ('have', 'the'),\n",
    " ('havet', 'he')])"
   ]
  },
  {
   "cell_type": "code",
   "execution_count": null,
   "id": "5203712d",
   "metadata": {},
   "outputs": [],
   "source": [
    "# Tests for generate_replacement_substring\n",
    "assert(generate_replacement_string([('a', 'hamburger'),\n",
    " ('ah', 'amburger'),\n",
    " ('aha', 'mburger'),\n",
    " ('aham', 'burger'),\n",
    " ('ahamb', 'urger'),\n",
    " ('ahambu', 'rger'),\n",
    " ('ahambur', 'ger'),\n",
    " ('ahamburg', 'er')]) == ('a', 'hamburger')\n",
    "\n",
    ")\n",
    "\n",
    "assert(generate_replacement_string([('h', 'avethe'),\n",
    " ('ha', 'vethe'),\n",
    " ('hav', 'ethe'),\n",
    " ('have', 'the'),\n",
    " ('havet', 'he')]) == ('have', 'the'))"
   ]
  }
 ],
 "metadata": {
  "kernelspec": {
   "display_name": "Python 3.8.0 64-bit ('teaching': conda)",
   "language": "python",
   "name": "python380jvsc74a57bd0654d77ec2f007808a485940ba2d070405e0916fb4dc4d58d559c8c9bfd011783"
  },
  "language_info": {
   "codemirror_mode": {
    "name": "ipython",
    "version": 3
   },
   "file_extension": ".py",
   "mimetype": "text/x-python",
   "name": "python",
   "nbconvert_exporter": "python",
   "pygments_lexer": "ipython3",
   "version": "3.8.0"
  }
 },
 "nbformat": 4,
 "nbformat_minor": 5
}
