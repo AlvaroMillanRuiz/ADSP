{
 "cells": [
  {
   "cell_type": "code",
   "execution_count": 13,
   "metadata": {},
   "outputs": [
    {
     "name": "stdout",
     "output_type": "stream",
     "text": [
      "There is an i or u\n",
      "There is an i or u\n",
      "There is an i or u\n",
      "There is an i or u\n",
      "There is an i or u\n",
      "There is an i or u\n",
      "There is an i or u\n",
      "There is an i or u\n"
     ]
    }
   ],
   "source": [
    "####################\n",
    "## EXAMPLE: for loops over strings\n",
    "####################\n",
    "s = \"emtro al garito haciendo lupings\"\n",
    "for index in range(len(s)):\n",
    "   if s[index] == 'i' or s[index] == 'u':\n",
    "       print(\"There is an i or u\")\n",
    "\n",
    "for char in s:\n",
    "   if char == 'i' or char == 'u':\n",
    "       print(\"There is an i or u\")"
   ]
  },
  {
   "cell_type": "code",
   "execution_count": 18,
   "metadata": {},
   "outputs": [
    {
     "name": "stdout",
     "output_type": "stream",
     "text": [
      "Give me an h! h\n",
      "Give me an o! o\n",
      "Give me an l! l\n",
      "Give me an a! a\n",
      "What does that spell?\n",
      "hola !!!\n"
     ]
    }
   ],
   "source": [
    "####################\n",
    "## EXAMPLE: while loops and strings\n",
    "## CHALLENGE: rewrite while loop with a for loop\n",
    "####################\n",
    "an_letters = \"aefhilmnorsxAEFHILMNORSX\"\n",
    "word = input(\"I will cheer for you! Enter a word: \")\n",
    "times = int(input(\"Enthusiasm level (1-10): \"))\n",
    "\n",
    "for char in word:\n",
    "   if char in an_letters:\n",
    "       print(\"Give me an \" + char + \"! \" + char)\n",
    "   else:\n",
    "       print(\"Give me a  \" + char + \"! \" + char)\n",
    "   i += 1\n",
    "print(\"What does that spell?\")\n",
    "for i in range(times):\n",
    "   print(word, \"!!!\")"
   ]
  },
  {
   "cell_type": "code",
   "execution_count": null,
   "metadata": {},
   "outputs": [],
   "source": [
    "####################\n",
    "## EXAMPLE: while loops and strings\n",
    "## CHALLENGE: rewrite while loop with a for loop\n",
    "####################\n",
    "an_letters = \"aefhilmnorsxAEFHILMNORSX\"\n",
    "word = input(\"I will cheer for you! Enter a word: \")\n",
    "times = int(input(\"Enthusiasm level (1-10): \"))\n",
    "\n",
    "for char in word:\n",
    "   if char in an_letters:\n",
    "       print(\"Give me an \" + char + \"! \" + char)\n",
    "   else:\n",
    "       print(\"Give me a  \" + char + \"! \" + char)\n",
    "\n",
    "print(\"What does that spell?\")\n",
    "for i in range(times):\n",
    "   print(word, \"!!!\")"
   ]
  },
  {
   "cell_type": "code",
   "execution_count": 8,
   "metadata": {},
   "outputs": [
    {
     "name": "stdout",
     "output_type": "stream",
     "text": [
      "Give me an h! h\n",
      "Give me an o! o\n",
      "Give me an l! l\n",
      "Give me an a! a\n",
      "Give me a  a! a\n",
      "What does that spell?\n",
      "hola !!!\n"
     ]
    }
   ],
   "source": [
    "def cheers(word, letters, times):\n",
    "    for char in word:\n",
    "        if char in letters:\n",
    "            print(\"Give me an \" + char + \"! \" + char)\n",
    "    else:\n",
    "        print(\"Give me a  \" + char + \"! \" + char)\n",
    "    print(\"What does that spell?\")\n",
    "    \n",
    "    for i in range(times):\n",
    "        print(word, \"!!!\")\n",
    "\n",
    "an_letters = \"aefhilmnorsxAEFHILMNORSX\"\n",
    "word = input(\"I will cheer for you! Enter a word: \")\n",
    "times = int(input(\"Enthusiasm level (1-10): \"))\n",
    "\n",
    "cheers(word, an_letters, times)"
   ]
  },
  {
   "cell_type": "code",
   "execution_count": 12,
   "metadata": {},
   "outputs": [
    {
     "name": "stdout",
     "output_type": "stream",
     "text": [
      "Give me an E! E\n",
      "Give me an S! S\n"
     ]
    },
    {
     "ename": "Exception",
     "evalue": "Sorry, me comes los huevos",
     "output_type": "error",
     "traceback": [
      "\u001b[1;31m---------------------------------------------------------------------------\u001b[0m",
      "\u001b[1;31mException\u001b[0m                                 Traceback (most recent call last)",
      "\u001b[1;32m~\\AppData\\Local\\Temp\\ipykernel_3244\\1549236652.py\u001b[0m in \u001b[0;36m<module>\u001b[1;34m\u001b[0m\n\u001b[0;32m     11\u001b[0m         \u001b[0mprint\u001b[0m\u001b[1;33m(\u001b[0m\u001b[1;34m\"Give me an \"\u001b[0m \u001b[1;33m+\u001b[0m \u001b[0mchar\u001b[0m \u001b[1;33m+\u001b[0m \u001b[1;34m\"! \"\u001b[0m \u001b[1;33m+\u001b[0m \u001b[0mchar\u001b[0m\u001b[1;33m)\u001b[0m\u001b[1;33m\u001b[0m\u001b[1;33m\u001b[0m\u001b[0m\n\u001b[0;32m     12\u001b[0m     \u001b[1;32melse\u001b[0m\u001b[1;33m:\u001b[0m\u001b[1;33m\u001b[0m\u001b[1;33m\u001b[0m\u001b[0m\n\u001b[1;32m---> 13\u001b[1;33m         \u001b[1;32mraise\u001b[0m \u001b[0mException\u001b[0m\u001b[1;33m(\u001b[0m\u001b[1;34m\"Sorry, me comes los huevos\"\u001b[0m\u001b[1;33m)\u001b[0m\u001b[1;33m\u001b[0m\u001b[1;33m\u001b[0m\u001b[0m\n\u001b[0m\u001b[0;32m     14\u001b[0m         \u001b[1;32mbreak\u001b[0m\u001b[1;33m\u001b[0m\u001b[1;33m\u001b[0m\u001b[0m\n\u001b[0;32m     15\u001b[0m \u001b[1;33m\u001b[0m\u001b[0m\n",
      "\u001b[1;31mException\u001b[0m: Sorry, me comes los huevos"
     ]
    }
   ],
   "source": [
    "####################\n",
    "## EXAMPLE: while loops and strings\n",
    "## CHALLENGE: rewrite while loop with a for loop\n",
    "####################\n",
    "an_letters = \"aefhilmnorsxAEFHILMNORSX\"\n",
    "word = input(\"I will cheer for you! Enter a word: \")\n",
    "times = int(input(\"Enthusiasm level (1-10): \"))\n",
    "\n",
    "for char in word:\n",
    "    if char in an_letters:\n",
    "        print(\"Give me an \" + char + \"! \" + char)\n",
    "    else: \n",
    "        raise Exception(\"Sorry, me comes los huevos\")\n",
    "        break\n",
    "\n",
    "for i in range(times):\n",
    "    print(word, \"!!!\")\n"
   ]
  },
  {
   "cell_type": "code",
   "execution_count": 55,
   "metadata": {},
   "outputs": [
    {
     "ename": "Exception",
     "evalue": "Sorry, me comes los huevos",
     "output_type": "error",
     "traceback": [
      "\u001b[1;31m---------------------------------------------------------------------------\u001b[0m",
      "\u001b[1;31mException\u001b[0m                                 Traceback (most recent call last)",
      "\u001b[1;32m~\\AppData\\Local\\Temp\\ipykernel_3244\\3241518043.py\u001b[0m in \u001b[0;36m<module>\u001b[1;34m\u001b[0m\n\u001b[0;32m     14\u001b[0m \u001b[0mtimes\u001b[0m \u001b[1;33m=\u001b[0m \u001b[0mint\u001b[0m\u001b[1;33m(\u001b[0m\u001b[0minput\u001b[0m\u001b[1;33m(\u001b[0m\u001b[1;34m\"Enthusiasm level (1-10): \"\u001b[0m\u001b[1;33m)\u001b[0m\u001b[1;33m)\u001b[0m\u001b[1;33m\u001b[0m\u001b[1;33m\u001b[0m\u001b[0m\n\u001b[0;32m     15\u001b[0m \u001b[1;33m\u001b[0m\u001b[0m\n\u001b[1;32m---> 16\u001b[1;33m \u001b[0mcheers\u001b[0m\u001b[1;33m(\u001b[0m\u001b[0mlet\u001b[0m\u001b[1;33m,\u001b[0m \u001b[0mword\u001b[0m\u001b[1;33m,\u001b[0m \u001b[0mtimes\u001b[0m\u001b[1;33m)\u001b[0m\u001b[1;33m\u001b[0m\u001b[1;33m\u001b[0m\u001b[0m\n\u001b[0m",
      "\u001b[1;32m~\\AppData\\Local\\Temp\\ipykernel_3244\\3241518043.py\u001b[0m in \u001b[0;36mcheers\u001b[1;34m(word, letter, times)\u001b[0m\n\u001b[0;32m      3\u001b[0m         \u001b[0mprint\u001b[0m\u001b[1;33m(\u001b[0m\u001b[1;34m\"Give me an \"\u001b[0m \u001b[1;33m+\u001b[0m \u001b[0mchar\u001b[0m \u001b[1;33m+\u001b[0m \u001b[1;34m\"! \"\u001b[0m \u001b[1;33m+\u001b[0m \u001b[0mchar\u001b[0m\u001b[1;33m)\u001b[0m\u001b[1;33m\u001b[0m\u001b[1;33m\u001b[0m\u001b[0m\n\u001b[0;32m      4\u001b[0m     \u001b[1;32melse\u001b[0m\u001b[1;33m:\u001b[0m\u001b[1;33m\u001b[0m\u001b[1;33m\u001b[0m\u001b[0m\n\u001b[1;32m----> 5\u001b[1;33m         \u001b[1;32mraise\u001b[0m \u001b[0mException\u001b[0m\u001b[1;33m(\u001b[0m\u001b[1;34m\"Sorry, me comes los huevos\"\u001b[0m\u001b[1;33m)\u001b[0m\u001b[1;33m\u001b[0m\u001b[1;33m\u001b[0m\u001b[0m\n\u001b[0m\u001b[0;32m      6\u001b[0m \u001b[1;33m\u001b[0m\u001b[0m\n\u001b[0;32m      7\u001b[0m \u001b[1;33m\u001b[0m\u001b[0m\n",
      "\u001b[1;31mException\u001b[0m: Sorry, me comes los huevos"
     ]
    }
   ],
   "source": [
    "def cheers(word, letter, times):\n",
    "    if char in letter:\n",
    "        print(\"Give me an \" + char + \"! \" + char)\n",
    "    else: \n",
    "        raise Exception(\"Sorry, me comes los huevos\")\n",
    "    \n",
    "\n",
    "    for i in range(times):\n",
    "        print(word, \"!!!\")\n",
    "\n",
    "\n",
    "let = \"aefhilmnorsxAEFHILMNORSX\"\n",
    "word = input(\"I will cheer for you! Enter a word: \")\n",
    "times = int(input(\"Enthusiasm level (1-10): \"))\n",
    "\n",
    "cheers(let, word, times)"
   ]
  },
  {
   "cell_type": "code",
   "execution_count": 121,
   "metadata": {},
   "outputs": [
    {
     "name": "stdout",
     "output_type": "stream",
     "text": [
      "m\n",
      "i\n",
      "i\n",
      "t\n",
      " \n",
      " \n",
      "u\n",
      " \n",
      " \n",
      "r\n"
     ]
    }
   ],
   "source": [
    "s1 = \"mit u rock\"\n",
    "s2 = \"i rule mit\"\n",
    "i = 0\n",
    "if len(s1) == len(s2):\n",
    "    for char1 in (s1):\n",
    "        for char2 in (s2):\n",
    "            if char1 == char2:\n",
    "                print(char1)\n",
    "            else: \n",
    "                #raise Exception(\"tas loco muchacho\")\n",
    "                next"
   ]
  },
  {
   "cell_type": "code",
   "execution_count": 80,
   "metadata": {},
   "outputs": [
    {
     "name": "stdout",
     "output_type": "stream",
     "text": [
      "['p', 'e', 'n', 'e']\n"
     ]
    }
   ],
   "source": [
    "s1 = \"pene\"\n",
    "polla = []\n",
    "[polla.append(x) for x in s1]\n",
    "print(polla)"
   ]
  },
  {
   "cell_type": "code",
   "execution_count": 60,
   "metadata": {},
   "outputs": [
    {
     "name": "stdout",
     "output_type": "stream",
     "text": [
      "k\n"
     ]
    },
    {
     "data": {
      "text/plain": [
       "[None]"
      ]
     },
     "execution_count": 60,
     "metadata": {},
     "output_type": "execute_result"
    }
   ],
   "source": []
  },
  {
   "cell_type": "code",
   "execution_count": null,
   "metadata": {
    "collapsed": true
   },
   "outputs": [],
   "source": [
    "####################\n",
    "## EXAMPLE: perfect cube \n",
    "####################\n",
    "cube = 27\n",
    "#cube = 8120601\n",
    "for guess in range(cube+1):\n",
    "   if guess**3 == cube:\n",
    "       print(\"Cube root of\", cube, \"is\", guess)\n",
    "       # loops keeps going even after found the cube root\n"
   ]
  },
  {
   "cell_type": "code",
   "execution_count": null,
   "metadata": {
    "collapsed": true
   },
   "outputs": [],
   "source": [
    "####################\n",
    "## EXAMPLE: guess and check cube root \n",
    "####################\n",
    "cube = 27\n",
    "#cube = 8120601\n",
    "for guess in range(abs(cube)+1):\n",
    "   # passed all potential cube roots\n",
    "   if guess**3 >= abs(cube):\n",
    "       # no need to keep searching\n",
    "       break\n",
    "if guess**3 != abs(cube):\n",
    "   print(cube, 'is not a perfect cube')\n",
    "else:\n",
    "   if cube < 0:\n",
    "       guess = -guess\n",
    "   print('Cube root of ' + str(cube) + ' is ' + str(guess))"
   ]
  },
  {
   "cell_type": "code",
   "execution_count": null,
   "metadata": {
    "collapsed": true
   },
   "outputs": [],
   "source": [
    "####################\n",
    "## EXAMPLE: approximate cube root \n",
    "####################\n",
    "cube = 27\n",
    "#cube = 8120601\n",
    "#cube = 10000\n",
    "epsilon = 0.1\n",
    "guess = 0.0\n",
    "increment = 0.01\n",
    "num_guesses = 0\n",
    "# look for close enough answer and make sure\n",
    "# didn't accidentally skip the close enough bound\n",
    "while abs(guess**3 - cube) >= epsilon and guess <= cube:\n",
    "   guess += increment\n",
    "   num_guesses += 1\n",
    "print('num_guesses =', num_guesses)\n",
    "if abs(guess**3 - cube) >= epsilon:\n",
    "   print('Failed on cube root of', cube, \"with these parameters.\")\n",
    "else:\n",
    "   print(guess, 'is close to the cube root of', cube)\n"
   ]
  },
  {
   "cell_type": "code",
   "execution_count": null,
   "metadata": {
    "collapsed": true
   },
   "outputs": [],
   "source": [
    "####################\n",
    "## EXAMPLE: bisection cube root (only positive cubes!)\n",
    "####################\n",
    "cube = 27\n",
    "#cube = 8120601\n",
    "# won't work with x < 1 because initial upper bound is less than ans\n",
    "#cube = 0.25\n",
    "epsilon = 0.01\n",
    "num_guesses = 0\n",
    "low = 0\n",
    "high = cube\n",
    "guess = (high + low)/2.0\n",
    "while abs(guess**3 - cube) >= epsilon:\n",
    "   if guess**3 < cube:\n",
    "       # look only in upper half search space\n",
    "       low = guess\n",
    "   else:\n",
    "       # look only in lower half search space\n",
    "       high = guess\n",
    "   # next guess is halfway in search space\n",
    "   guess = (high + low)/2.0\n",
    "   num_guesses += 1\n",
    "print('num_guesses =', num_guesses)\n",
    "print(guess, 'is close to the cube root of', cube)\n"
   ]
  }
 ],
 "metadata": {
  "kernelspec": {
   "display_name": "Python 3",
   "language": "python",
   "name": "python3"
  },
  "language_info": {
   "codemirror_mode": {
    "name": "ipython",
    "version": 3
   },
   "file_extension": ".py",
   "mimetype": "text/x-python",
   "name": "python",
   "nbconvert_exporter": "python",
   "pygments_lexer": "ipython3",
   "version": "3.7.16"
  }
 },
 "nbformat": 4,
 "nbformat_minor": 2
}
