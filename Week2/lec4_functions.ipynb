{
 "cells": [
  {
   "cell_type": "code",
   "execution_count": null,
   "metadata": {},
   "outputs": [],
   "source": [
    "#########################\n",
    "## EXAMPLE: combinations of print and return\n",
    "#########################\n",
    "def is_even_with_return( i ):\n",
    "    \"\"\" \n",
    "    Input: i, a positive int\n",
    "    Returns True if i is even, otherwise False\n",
    "    \"\"\"\n",
    "    print('with return')\n",
    "    remainder = i % 2\n",
    "    return remainder == 0\n",
    "\n",
    "is_even_with_return(3) \n",
    "print(is_even_with_return(3) )\n"
   ]
  },
  {
   "cell_type": "code",
   "execution_count": null,
   "metadata": {},
   "outputs": [],
   "source": [
    "def is_even_without_return( i ):\n",
    "    \"\"\" \n",
    "    Input: i, a positive int\n",
    "    Does not return anything\n",
    "    \"\"\"\n",
    "    print('without return')\n",
    "    remainder = i % 2\n",
    "\n",
    "is_even_without_return(3)\n",
    "print(is_even_without_return(3) )\n"
   ]
  },
  {
   "cell_type": "code",
   "execution_count": null,
   "metadata": {},
   "outputs": [],
   "source": [
    "# Simple is_even function definition\n",
    "def is_even( i ):\n",
    "    \"\"\" \n",
    "    Input: i, a positive int\n",
    "    Returns True if i is even, otherwise False\n",
    "    \"\"\"\n",
    "    remainder = i % 2\n",
    "    return remainder == 0\n",
    "\n",
    "# Use the is_even function later on in the code\n",
    "print(\"All numbers between 0 and 20: even or not\")\n",
    "for i in range(20):\n",
    "    if is_even(i):\n",
    "        print(i, \"even\")\n",
    "    else:\n",
    "        print(i, \"odd\")\n"
   ]
  },
  {
   "cell_type": "code",
   "execution_count": null,
   "metadata": {},
   "outputs": [],
   "source": [
    "#########################\n",
    "## EXAMPLE: applying functions to repeat same task many times\n",
    "#########################\n",
    "def bisection_cuberoot_approx(x, epsilon):\n",
    "    \"\"\"\n",
    "    Input: x, an integer\n",
    "    Uses bisection to approximate the cube root of x to within epsilon\n",
    "    Returns: a float approximating the cube root of x\n",
    "    \"\"\"\n",
    "    low = 0.0\n",
    "    high = x\n",
    "    guess = (high + low)/2.0\n",
    "    while abs(guess**3 - x) >= epsilon:\n",
    "        if guess**3 < x:\n",
    "            low = guess\n",
    "        else:\n",
    "            high = guess\n",
    "        guess = (high + low)/2.0\n",
    "    return guess\n",
    "\n",
    "x = 1\n",
    "while x <= 10000:\n",
    "    approx = bisection_cuberoot_approx(x, 0.01)\n",
    "    print(approx, \"is close to cube root of\", x)\n",
    "    x *= 10\n"
   ]
  },
  {
   "cell_type": "code",
   "execution_count": null,
   "metadata": {},
   "outputs": [],
   "source": [
    "#########################\n",
    "## EXAMPLE: functions as arguments\n",
    "#########################\n",
    "def func_a():\n",
    "    print('inside func_a')\n",
    "\n",
    "def func_b(y):\n",
    "    print('inside func_b')\n",
    "    return y\n",
    "\n",
    "def func_c(z):\n",
    "    print('inside func_c')\n",
    "    return z()\n",
    "\n",
    "print(func_a())\n",
    "print(5+func_b(2))\n",
    "print(func_c(func_a))\n"
   ]
  },
  {
   "cell_type": "code",
   "execution_count": null,
   "metadata": {},
   "outputs": [],
   "source": [
    "#########################\n",
    "## EXAMPLE: returning function objects\n",
    "#########################\n",
    "def f():\n",
    "    def x(a, b):\n",
    "        return a+b\n",
    "    return x\n",
    "    \n",
    "# the first part, f(), returns a function object\n",
    "# then apply that function with parameters 3 and 4\n",
    "val = f()(3,4)\n",
    "print(val)\n"
   ]
  },
  {
   "cell_type": "code",
   "execution_count": null,
   "metadata": {},
   "outputs": [],
   "source": [
    "#########################\n",
    "## EXAMPLE: shows accessing variables outside scope\n",
    "#########################\n",
    "def f(y):\n",
    "    x = 1\n",
    "    x += 1\n",
    "    print(x)\n",
    "x = 5\n",
    "f(x)\n",
    "print(x)\n",
    "\n",
    "def g(y):\n",
    "    print(x)\n",
    "    print(x+1)\n",
    "x = 5\n",
    "g(x)\n",
    "print(x)\n",
    "\n",
    "def h(y):\n",
    "    pass\n",
    "    #x += 1 #leads to an error without line `global x` inside h\n",
    "x = 5\n",
    "h(x)\n",
    "print(x)\n"
   ]
  },
  {
   "cell_type": "code",
   "execution_count": null,
   "metadata": {},
   "outputs": [],
   "source": [
    "#########################\n",
    "## EXAMPLE: hader scope example from slides\n",
    "#########################\n",
    "def g(x):\n",
    "    def h():\n",
    "        x = 'abc'\n",
    "    x = x + 1\n",
    "    print('in g(x): x =', x)\n",
    "    h()\n",
    "    return x\n",
    "\n",
    "x = 3\n",
    "z = g(x)\n"
   ]
  },
  {
   "cell_type": "code",
   "execution_count": null,
   "metadata": {},
   "outputs": [],
   "source": [
    "#########################\n",
    "## EXAMPLE: complicated scope, test yourself!\n",
    "#########################\n",
    "def f(x):\n",
    "   x = x + 1\n",
    "   print('in f(x): x =', x)\n",
    "   return x\n",
    "\n",
    "x = 3\n",
    "z = f(x)\n",
    "print('in main program scope: z =', z)\n",
    "print('in main program scope: x =', x)\n"
   ]
  },
  {
   "cell_type": "code",
   "execution_count": null,
   "metadata": {},
   "outputs": [],
   "source": [
    "def g(x):\n",
    "    def h(x):\n",
    "        x = x+1\n",
    "        print(\"in h(x): x = \", x)\n",
    "    x = x + 1\n",
    "    print('in g(x): x = ', x)\n",
    "    h(x)\n",
    "    return x\n",
    "\n",
    "x = 3\n",
    "z = g(x)\n",
    "print('in main program scope: x = ', x)\n",
    "print('in main program scope: z = ', z)\n"
   ]
  }
 ],
 "metadata": {
  "kernelspec": {
   "display_name": "Python 3",
   "language": "python",
   "name": "python3"
  },
  "language_info": {
   "codemirror_mode": {
    "name": "ipython",
    "version": 3
   },
   "file_extension": ".py",
   "mimetype": "text/x-python",
   "name": "python",
   "nbconvert_exporter": "python",
   "pygments_lexer": "ipython3",
   "version": "3.6.1"
  }
 },
 "nbformat": 4,
 "nbformat_minor": 2
}
