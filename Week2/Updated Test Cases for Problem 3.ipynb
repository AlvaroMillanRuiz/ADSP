{
 "cells": [
  {
   "cell_type": "markdown",
   "id": "5ab8a91f",
   "metadata": {},
   "source": [
    "This notebook provides updated test cases for Problem 3 in Assignment 2. Please replace the test cases in the original homework notebook with these updated test cases."
   ]
  },
  {
   "cell_type": "code",
   "execution_count": null,
   "id": "ee51b9e4",
   "metadata": {},
   "outputs": [],
   "source": [
    "# Tests for check_typos\n",
    "\n",
    "assert(check_typos(\"can I have ahamburger that I shallpay for tomorrow\") == ['ahamburger', 'shallpay'])\n",
    "assert(check_typos(\"can I havethe sandwich please\") == ['havethe'])"
   ]
  },
  {
   "cell_type": "code",
   "execution_count": null,
   "id": "83123ff0",
   "metadata": {},
   "outputs": [],
   "source": [
    "# Tests for generate_substrings\n",
    "\n",
    "assert(generate_substrings(\"ahamburger\") == [('a', 'hamburger'),\n",
    " ('ah', 'amburger'),\n",
    " ('aha', 'mburger'),\n",
    " ('aham', 'burger'),\n",
    " ('ahamb', 'urger'),\n",
    " ('ahambu', 'rger'),\n",
    " ('ahambur', 'ger'),\n",
    " ('ahamburg', 'er'),\n",
    " ('ahamburge', 'r')]\n",
    "\n",
    ")\n",
    "\n",
    "assert(generate_substrings(\"havethe\") == [('h', 'avethe'),\n",
    " ('ha', 'vethe'),\n",
    " ('hav', 'ethe'),\n",
    " ('have', 'the'),\n",
    " ('havet', 'he'),\n",
    " ('haveth', 'e')])"
   ]
  },
  {
   "cell_type": "code",
   "execution_count": null,
   "id": "9ea707e1",
   "metadata": {},
   "outputs": [],
   "source": [
    "# Tests for generate_replacement_substring\n",
    "\n",
    "assert(generate_replacement_string([('a', 'hamburger'),\n",
    " ('ah', 'amburger'),\n",
    " ('aha', 'mburger'),\n",
    " ('aham', 'burger'),\n",
    " ('ahamb', 'urger'),\n",
    " ('ahambu', 'rger'),\n",
    " ('ahambur', 'ger'),\n",
    " ('ahamburg', 'er'),\n",
    " ('ahamburge', 'r')]) == ('a', 'hamburger')\n",
    "\n",
    ")\n",
    "\n",
    "assert(generate_replacement_string([('h', 'avethe'),\n",
    " ('ha', 'vethe'),\n",
    " ('hav', 'ethe'),\n",
    " ('have', 'the'),\n",
    " ('havet', 'he'),\n",
    " ('haveth', 'e')]) == ('have', 'the'))"
   ]
  }
 ],
 "metadata": {
  "kernelspec": {
   "display_name": "Python 3",
   "language": "python",
   "name": "python3"
  },
  "language_info": {
   "codemirror_mode": {
    "name": "ipython",
    "version": 3
   },
   "file_extension": ".py",
   "mimetype": "text/x-python",
   "name": "python",
   "nbconvert_exporter": "python",
   "pygments_lexer": "ipython3",
   "version": "3.7.7"
  }
 },
 "nbformat": 4,
 "nbformat_minor": 5
}
