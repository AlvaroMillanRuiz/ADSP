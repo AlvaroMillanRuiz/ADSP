{
 "cells": [
  {
   "cell_type": "code",
   "execution_count": null,
   "metadata": {
    "collapsed": true
   },
   "outputs": [],
   "source": [
    "# Exercises credits and additional useful resources:\n",
    "\n",
    "# Allen Downey. 2015. Think Python: How to Think Like a Computer Scientist, Green Tea Press, Needham, Massachusetts\n",
    "# Freely available at: http://greenteapress.com/wp/think-python-2e/\n",
    "\n",
    "# Ana Bell, Eric Grimson, and John Guttag. 6.0001 Introduction to Computer Science and Programming in Python. \n",
    "# Fall 2016. Massachusetts Institute of Technology: MIT OpenCourseWare, https://ocw.mit.edu. \n",
    "# License: CreatEricive Commons BY-NC-SA.\n",
    "\n",
    "# Bradley N. Miller and David L. Ranum. 2011. Problem Solving with Algorithms and Data Structures Using Python SECOND EDITION (2nd ed.). Franklin, Beedle & Associates Inc., Wilsonville, OR, USA.\n",
    "# The interactive version of the book is also freely available online at:\n",
    "# http://interactivepython.org/runestone/static/pythonds/index.html\n",
    "\n",
    "# How to Think Like a Computer Scientist: Interactive Edition\n",
    "# Freely available at: http://interactivepython.org/runestone/static/thinkcspy/index.html"
   ]
  },
  {
   "cell_type": "code",
   "execution_count": null,
   "metadata": {
    "slideshow": {
     "slide_type": "-"
    }
   },
   "outputs": [],
   "source": [
    "# 1. String Manipulations\n",
    "\n",
    "# What does the code below print?\n",
    "\n",
    "s = \"6.00 is 6.0001 and 6.0002\"\n",
    "new_str = \"\"\n",
    "new_str += s[-1]\n",
    "new_str += s[0]\n",
    "new_str += s[4::30]    \n",
    "new_str += s[13:10:-1]\n",
    "print(new_str)"
   ]
  },
  {
   "cell_type": "code",
   "execution_count": null,
   "metadata": {
    "slideshow": {
     "slide_type": "-"
    }
   },
   "outputs": [],
   "source": [
    "# 2. For Loops with Strings\n",
    "\n",
    "# How many times will the code below print \"common letter\"?\n",
    "\n",
    "s1 = \"mit u rock\"\n",
    "s2 = \"i rule mit\"\n",
    "counter = 0\n",
    "if len(s1) == len(s2):\n",
    "    for char1 in s1:\n",
    "        for char2 in s2:\n",
    "            if char1 == char2:\n",
    "                counter += 1\n",
    "                print(str(counter) + \". common letter: \" + \"\\\"\" + char1 + \"\\\"\")\n",
    "                break"
   ]
  },
  {
   "cell_type": "code",
   "execution_count": null,
   "metadata": {
    "slideshow": {
     "slide_type": "-"
    }
   },
   "outputs": [],
   "source": [
    "# 3. Traversal with a for loop\n",
    "\n",
    "prefixes = 'JKLMNOPQ'\n",
    "suffix = 'ack'\n",
    "\n",
    "for letter in prefixes:\n",
    "    print(letter + suffix)"
   ]
  },
  {
   "cell_type": "code",
   "execution_count": null,
   "metadata": {
    "collapsed": true,
    "slideshow": {
     "slide_type": "-"
    }
   },
   "outputs": [],
   "source": [
    "# 4. String slices\n",
    "\n",
    "s = 'Monty Python'\n",
    "print(s[0:5])\n",
    "print(s[6:12])"
   ]
  },
  {
   "cell_type": "code",
   "execution_count": null,
   "metadata": {
    "slideshow": {
     "slide_type": "-"
    }
   },
   "outputs": [],
   "source": [
    "# 5. String slices - allowed, but ...\n",
    "\n",
    "s = 'Monty Python'\n",
    "print(s[5:5])\n",
    "\n",
    "# Think what would happen with print(s[7:5])"
   ]
  },
  {
   "cell_type": "code",
   "execution_count": null,
   "metadata": {
    "collapsed": true
   },
   "outputs": [],
   "source": [
    "# 6. Strings are IMMUTABLE, so this is not allowed\n",
    "\n",
    "greeting = 'Hello, world!'\n",
    "greeting[0] = 'J'"
   ]
  },
  {
   "cell_type": "code",
   "execution_count": null,
   "metadata": {
    "collapsed": true
   },
   "outputs": [],
   "source": [
    "# 7. Strings are IMMUTABLE, but this is ok\n",
    "\n",
    "greeting = 'Hello, world!'\n",
    "new_greeting = 'J' + greeting[1:]\n",
    "print(new_greeting)"
   ]
  },
  {
   "cell_type": "code",
   "execution_count": null,
   "metadata": {
    "collapsed": true
   },
   "outputs": [],
   "source": [
    "# 8. Searching in strings\n",
    "\n",
    "# What does this function do?\n",
    "\n",
    "def find(word, letter):\n",
    "    index = 0\n",
    "    while index < len(word):\n",
    "        if word[index] == letter:\n",
    "            return index\n",
    "        index = index + 1\n",
    "    return -1\n"
   ]
  },
  {
   "cell_type": "code",
   "execution_count": null,
   "metadata": {
    "collapsed": true
   },
   "outputs": [],
   "source": [
    "# 9. String methods\n",
    "\n",
    "# upper\n",
    "\n",
    "word = 'banana'\n",
    "new_word = word.upper()\n",
    "print(new_word)"
   ]
  },
  {
   "cell_type": "code",
   "execution_count": null,
   "metadata": {
    "collapsed": true
   },
   "outputs": [],
   "source": [
    "# 10. String methods\n",
    "\n",
    "# find\n",
    "\n",
    "word = 'banana'\n",
    "index = word.find('a')\n",
    "print(index)\n",
    "\n",
    "print(word.find('na')) # In this example, we invoke find on word and pass the letter we are looking for as a parameter.\n",
    "\n",
    "print(word.find('na', 3)) # It can find substrings, not just characters\n",
    "\n",
    "# What would happen here?\n",
    "\n",
    "# name = 'bob'\n",
    "# name.find('b', 1, 2)\n"
   ]
  },
  {
   "cell_type": "code",
   "execution_count": null,
   "metadata": {},
   "outputs": [],
   "source": [
    "# 11. Strings - the in operator\n",
    "\n",
    "def in_both(word1, word2):\n",
    "    for letter in word1:\n",
    "        if letter in word2:\n",
    "            print(letter)\n",
    "            "
   ]
  },
  {
   "cell_type": "code",
   "execution_count": null,
   "metadata": {
    "collapsed": true
   },
   "outputs": [],
   "source": [
    "# 12. Algorithm example - the sequential search\n",
    "\n",
    "def sequentialSearch(alist, item):\n",
    "    pos = 0\n",
    "    found = False\n",
    "\n",
    "    while pos < len(alist) and not found:\n",
    "        if alist[pos] == item:\n",
    "            found = True\n",
    "        else:\n",
    "            pos = pos+1\n",
    "\n",
    "    return found\n",
    "\n",
    "testlist = [1, 2, 32, 8, 17, 19, 42, 13, 0]\n",
    "print(sequentialSearch(testlist, 3))\n",
    "print(sequentialSearch(testlist, 13))"
   ]
  },
  {
   "cell_type": "code",
   "execution_count": null,
   "metadata": {
    "collapsed": true
   },
   "outputs": [],
   "source": [
    "# 13. The Binary Search - does it look familiar?\n",
    "\n",
    "def binarySearch(alist, item):\n",
    "    first = 0\n",
    "    last = len(alist)-1\n",
    "    found = False\n",
    "\n",
    "    while first<=last and not found:\n",
    "        midpoint = (first + last)//2\n",
    "        if alist[midpoint] == item:\n",
    "            found = True\n",
    "        else:\n",
    "            if item < alist[midpoint]:\n",
    "                last = midpoint-1\n",
    "            else:\n",
    "                first = midpoint+1\n",
    "\n",
    "    return found\n",
    "\n",
    "testlist = [0, 1, 2, 8, 13, 17, 19, 32, 42,]\n",
    "\n",
    "print(binarySearch(testlist, 3))\n",
    "print(binarySearch(testlist, 13))\n"
   ]
  },
  {
   "cell_type": "code",
   "execution_count": null,
   "metadata": {},
   "outputs": [],
   "source": [
    "# 14. Python functions\n",
    "\n",
    "def print_lyrics():\n",
    "    print(\"I'm a lumberjack, and I'm okay.\")\n",
    "    print(\"I sleep all night and I work all day.\")\n",
    "\n",
    "print_lyrics()"
   ]
  },
  {
   "cell_type": "code",
   "execution_count": null,
   "metadata": {},
   "outputs": [],
   "source": [
    "# 15. Python functions\n",
    "\n",
    "def print_lyrics():\n",
    "    print(\"I'm a lumberjack, and I'm okay.\")\n",
    "    print(\"I sleep all night and I work all day.\")\n",
    "\n",
    "def repeat_lyrics():\n",
    "    print_lyrics()\n",
    "    print_lyrics()\n",
    "\n",
    "repeat_lyrics()"
   ]
  },
  {
   "cell_type": "code",
   "execution_count": null,
   "metadata": {},
   "outputs": [],
   "source": [
    "# 16. Python functions - variables and parameters are local\n",
    "\n",
    "def print_twice(bruce):\n",
    "    print(bruce)\n",
    "    print(bruce)\n",
    "\n",
    "def cat_twice(part1, part2):\n",
    "    cat = part1 + part2\n",
    "    print_twice(cat)\n",
    "    \n",
    "line1 = 'Bing tiddle '\n",
    "line2 = 'tiddle bang.'\n",
    "cat_twice(line1, line2)\n",
    "\n",
    "# What would be output of print(cat)?\n"
   ]
  },
  {
   "cell_type": "code",
   "execution_count": null,
   "metadata": {},
   "outputs": [],
   "source": [
    "# 17. Local vs. global scope - is there something wrong with this one?\n",
    "\n",
    "def badsquare(x):\n",
    "    y = x ** power\n",
    "    return y\n",
    "\n",
    "power = 2\n",
    "result = badsquare(10)\n",
    "print(result)\n",
    "\n",
    "# How can we rewrite it?"
   ]
  },
  {
   "cell_type": "code",
   "execution_count": null,
   "metadata": {},
   "outputs": [],
   "source": [
    "# 18. Local vs. global scope - another example of bad practice\n",
    "\n",
    "def powerof(x, p):\n",
    "    power = p   # Another dumb mistake\n",
    "    y = x ** power\n",
    "    return y\n",
    "\n",
    "power = 3\n",
    "result = powerof(10, 2)\n",
    "print(result)"
   ]
  },
  {
   "cell_type": "code",
   "execution_count": null,
   "metadata": {},
   "outputs": [],
   "source": [
    "# 19. Accumulator pattern\n",
    "\n",
    "def square(x):\n",
    "    runningtotal = 0\n",
    "    for counter in range(x):\n",
    "        runningtotal = runningtotal + x\n",
    "\n",
    "    return runningtotal\n",
    "\n",
    "toSquare = 10\n",
    "squareResult = square(toSquare)\n",
    "print(\"The result of\", toSquare, \"squared is\", squareResult)\n"
   ]
  },
  {
   "cell_type": "code",
   "execution_count": null,
   "metadata": {},
   "outputs": [],
   "source": [
    "# 20. Functions can call other functions - functional decomposition\n",
    "\n",
    "def square(x):\n",
    "    y = x * x\n",
    "    return y\n",
    "\n",
    "def sum_of_squares(x, y, z):\n",
    "    a = square(x)\n",
    "    b = square(y)\n",
    "    c = square(z)\n",
    "\n",
    "    return a + b + c\n",
    "\n",
    "a = -5\n",
    "b = 2\n",
    "c = 10\n",
    "result = sum_of_squares(a, b, c)\n",
    "print(result)"
   ]
  },
  {
   "cell_type": "code",
   "execution_count": null,
   "metadata": {},
   "outputs": [],
   "source": [
    "# 21. Python functions - printing exercise\n",
    "\n",
    "# Write a function that draws a grid like the following:\n",
    "\n",
    "# + - - - - + - - - - +\n",
    "# |         |         |\n",
    "# |         |         |\n",
    "# |         |         |\n",
    "# |         |         |\n",
    "# + - - - - + - - - - +\n",
    "# |         |         |\n",
    "# |         |         |\n",
    "# |         |         |\n",
    "# |         |         |\n",
    "# + - - - - + - - - - +\n",
    "\n",
    "\n",
    "def do_twice(f):\n",
    "    f()\n",
    "    f()\n",
    "\n",
    "def do_four(f):\n",
    "    do_twice(f)\n",
    "    do_twice(f)\n",
    "\n",
    "def print_beam():\n",
    "    print('+ - - - -', end=' ')\n",
    "\n",
    "def print_post():\n",
    "    print('|        ', end=' ')\n",
    "\n",
    "def print_beams():\n",
    "    do_twice(print_beam)\n",
    "    print('+')\n",
    "\n",
    "def print_posts():\n",
    "    do_twice(print_post)\n",
    "    print('|')\n",
    "\n",
    "def print_row():\n",
    "    print_beams()\n",
    "    do_four(print_posts)\n",
    "\n",
    "def print_grid():\n",
    "    do_twice(print_row)\n",
    "    print_beams()\n",
    "\n",
    "print_grid()\n",
    "\n",
    "print()\n"
   ]
  },
  {
   "cell_type": "code",
   "execution_count": null,
   "metadata": {},
   "outputs": [],
   "source": [
    "# 22. Python functions\n",
    "\n",
    "# Write a function that draws a similar grid with four rows and four columns.\n",
    "\n",
    "# + - - - - + - - - - + - - - - + - - - - + \n",
    "# |         |         |         |         | \n",
    "# |         |         |         |         | \n",
    "# |         |         |         |         | \n",
    "# |         |         |         |         | \n",
    "# + - - - - + - - - - + - - - - + - - - - + \n",
    "# |         |         |         |         | \n",
    "# |         |         |         |         | \n",
    "# |         |         |         |         | \n",
    "# |         |         |         |         | \n",
    "# + - - - - + - - - - + - - - - + - - - - + \n",
    "# |         |         |         |         | \n",
    "# |         |         |         |         | \n",
    "# |         |         |         |         | \n",
    "# |         |         |         |         | \n",
    "# + - - - - + - - - - + - - - - + - - - - + \n",
    "# |         |         |         |         | \n",
    "# |         |         |         |         | \n",
    "# |         |         |         |         | \n",
    "# |         |         |         |         | \n",
    "# + - - - - + - - - - + - - - - + - - - - + \n",
    "\n",
    "def do_twice(f):\n",
    "    f()\n",
    "    f()\n",
    "\n",
    "def do_four(f):\n",
    "    do_twice(f)\n",
    "    do_twice(f)\n",
    "\n",
    "def one_four_one(f, g, h):\n",
    "    f()\n",
    "    do_four(g)\n",
    "    h()\n",
    "\n",
    "def print_plus():\n",
    "    print('+', end=' ')\n",
    "\n",
    "def print_dash():\n",
    "    print('-', end=' ')\n",
    "\n",
    "def print_bar():\n",
    "    print('|', end=' ')\n",
    "\n",
    "def print_space():\n",
    "    print(' ', end=' ')\n",
    "\n",
    "def print_end():\n",
    "    print()\n",
    "\n",
    "def nothing():\n",
    "    \"do nothing\"\n",
    "\n",
    "def print1beam():\n",
    "    one_four_one(nothing, print_dash, print_plus)\n",
    "\n",
    "def print1post():\n",
    "    one_four_one(nothing, print_space, print_bar)\n",
    "\n",
    "def print4beams():\n",
    "    one_four_one(print_plus, print1beam, print_end)\n",
    "\n",
    "def print4posts():\n",
    "    one_four_one(print_bar, print1post, print_end)\n",
    "\n",
    "def print_row():\n",
    "    one_four_one(nothing, print4posts, print4beams)\n",
    "\n",
    "def print_grid():\n",
    "    one_four_one(print4beams, print_row, nothing)\n",
    "    \n",
    "print_grid()\n"
   ]
  },
  {
   "cell_type": "code",
   "execution_count": null,
   "metadata": {},
   "outputs": [],
   "source": [
    "# 23. More fun with strings and functions - an anagram detection example\n",
    "\n",
    "def anagramSolution1(s1,s2):\n",
    "    alist = list(s2)\n",
    "\n",
    "    pos1 = 0\n",
    "    stillOK = True\n",
    "\n",
    "    while pos1 < len(s1) and stillOK:\n",
    "        pos2 = 0\n",
    "        found = False\n",
    "        while pos2 < len(alist) and not found:\n",
    "            if s1[pos1] == alist[pos2]:\n",
    "                found = True\n",
    "            else:\n",
    "                pos2 = pos2 + 1\n",
    "\n",
    "        if found:\n",
    "            alist[pos2] = None\n",
    "        else:\n",
    "            stillOK = False\n",
    "\n",
    "        pos1 = pos1 + 1\n",
    "\n",
    "    return stillOK\n",
    "\n",
    "print(anagramSolution1('abcd','dcba'))\n"
   ]
  }
 ],
 "metadata": {
  "kernelspec": {
   "display_name": "Python 3",
   "language": "python",
   "name": "python3"
  },
  "language_info": {
   "codemirror_mode": {
    "name": "ipython",
    "version": 3
   },
   "file_extension": ".py",
   "mimetype": "text/x-python",
   "name": "python",
   "nbconvert_exporter": "python",
   "pygments_lexer": "ipython3",
   "version": "3.6.1"
  }
 },
 "nbformat": 4,
 "nbformat_minor": 2
}
